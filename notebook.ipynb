{
 "cells": [
  {
   "cell_type": "markdown",
   "metadata": {},
   "source": [
    "# FoodApp User Behavior Analysis Test A/A/B"
   ]
  },
  {
   "cell_type": "markdown",
   "metadata": {},
   "source": [
    "## 📄 Project Description\n",
    "\n",
    "Investigation of user behavior for a food‑product startup’s mobile/web application. The analysis is divided into two parts:\n",
    "\n",
    "1. **Funnel Analysis**  \n",
    "   - Tracks the user journey through key stages (e.g., landing, product view, cart, checkout).  \n",
    "   - Determines drop‑off rates at each stage and quantifies how many users reach the purchase stage versus those who stall earlier.\n",
    "\n",
    "2. **A/A/B Font Test**  \n",
    "   - Compares two control groups (A1 & A2) using the existing font and one test group (B) using a proposed new font.  \n",
    "   - Verifies consistency between A1 and A2 to assess experiment noise and estimate data requirements for future tests.  \n",
    "   - Measures conversion rates and engagement metrics to determine whether the new font has a significant impact on user behavior.\n",
    "\n",
    "All analyses leverage the same dataset, reflecting real‑world practice where experiments run concurrently with ongoing behavioral tracking. <br> <br>\n",
    "**Note: Experiment number 246 and 247 are the control groups (A/A), and 248 is the test group(B).** \n"
   ]
  },
  {
   "cell_type": "markdown",
   "metadata": {},
   "source": [
    "### Import Libraries"
   ]
  },
  {
   "cell_type": "code",
   "execution_count": 1,
   "metadata": {},
   "outputs": [],
   "source": [
    "import pandas as pd\n",
    "import numpy as np\n",
    "import matplotlib.pyplot as plt\n",
    "import seaborn as sns\n",
    "from scipy import stats\n",
    "from datetime import timedelta\n",
    "from scipy.stats import mannwhitneyu\n",
    "from statsmodels.stats.proportion import proportions_ztest"
   ]
  },
  {
   "cell_type": "markdown",
   "metadata": {},
   "source": [
    "## Data Preprocessing and Cleaning"
   ]
  },
  {
   "cell_type": "code",
   "execution_count": 2,
   "metadata": {},
   "outputs": [
    {
     "data": {
      "text/html": [
       "<div>\n",
       "<style scoped>\n",
       "    .dataframe tbody tr th:only-of-type {\n",
       "        vertical-align: middle;\n",
       "    }\n",
       "\n",
       "    .dataframe tbody tr th {\n",
       "        vertical-align: top;\n",
       "    }\n",
       "\n",
       "    .dataframe thead th {\n",
       "        text-align: right;\n",
       "    }\n",
       "</style>\n",
       "<table border=\"1\" class=\"dataframe\">\n",
       "  <thead>\n",
       "    <tr style=\"text-align: right;\">\n",
       "      <th></th>\n",
       "      <th>EventName</th>\n",
       "      <th>DeviceIDHash</th>\n",
       "      <th>EventTimestamp</th>\n",
       "      <th>ExpId</th>\n",
       "    </tr>\n",
       "  </thead>\n",
       "  <tbody>\n",
       "    <tr>\n",
       "      <th>0</th>\n",
       "      <td>MainScreenAppear</td>\n",
       "      <td>4575588528974610257</td>\n",
       "      <td>1564029816</td>\n",
       "      <td>246</td>\n",
       "    </tr>\n",
       "    <tr>\n",
       "      <th>1</th>\n",
       "      <td>MainScreenAppear</td>\n",
       "      <td>7416695313311560658</td>\n",
       "      <td>1564053102</td>\n",
       "      <td>246</td>\n",
       "    </tr>\n",
       "    <tr>\n",
       "      <th>2</th>\n",
       "      <td>PaymentScreenSuccessful</td>\n",
       "      <td>3518123091307005509</td>\n",
       "      <td>1564054127</td>\n",
       "      <td>248</td>\n",
       "    </tr>\n",
       "    <tr>\n",
       "      <th>3</th>\n",
       "      <td>CartScreenAppear</td>\n",
       "      <td>3518123091307005509</td>\n",
       "      <td>1564054127</td>\n",
       "      <td>248</td>\n",
       "    </tr>\n",
       "    <tr>\n",
       "      <th>4</th>\n",
       "      <td>PaymentScreenSuccessful</td>\n",
       "      <td>6217807653094995999</td>\n",
       "      <td>1564055322</td>\n",
       "      <td>248</td>\n",
       "    </tr>\n",
       "  </tbody>\n",
       "</table>\n",
       "</div>"
      ],
      "text/plain": [
       "                 EventName         DeviceIDHash  EventTimestamp  ExpId\n",
       "0         MainScreenAppear  4575588528974610257      1564029816    246\n",
       "1         MainScreenAppear  7416695313311560658      1564053102    246\n",
       "2  PaymentScreenSuccessful  3518123091307005509      1564054127    248\n",
       "3         CartScreenAppear  3518123091307005509      1564054127    248\n",
       "4  PaymentScreenSuccessful  6217807653094995999      1564055322    248"
      ]
     },
     "metadata": {},
     "output_type": "display_data"
    },
    {
     "name": "stdout",
     "output_type": "stream",
     "text": [
      "<class 'pandas.core.frame.DataFrame'>\n",
      "RangeIndex: 244126 entries, 0 to 244125\n",
      "Data columns (total 4 columns):\n",
      " #   Column          Non-Null Count   Dtype \n",
      "---  ------          --------------   ----- \n",
      " 0   EventName       244126 non-null  object\n",
      " 1   DeviceIDHash    244126 non-null  int64 \n",
      " 2   EventTimestamp  244126 non-null  int64 \n",
      " 3   ExpId           244126 non-null  int64 \n",
      "dtypes: int64(3), object(1)\n",
      "memory usage: 7.5+ MB\n"
     ]
    },
    {
     "data": {
      "text/plain": [
       "None"
      ]
     },
     "metadata": {},
     "output_type": "display_data"
    }
   ],
   "source": [
    "# Load the dataset\n",
    "df = pd.read_csv('datsets/logs_exp_us.csv', sep='\\t')\n",
    "display(df.head())\n",
    "display(df.info())"
   ]
  },
  {
   "cell_type": "code",
   "execution_count": 3,
   "metadata": {},
   "outputs": [
    {
     "name": "stdout",
     "output_type": "stream",
     "text": [
      "<class 'pandas.core.frame.DataFrame'>\n",
      "RangeIndex: 244126 entries, 0 to 244125\n",
      "Data columns (total 4 columns):\n",
      " #   Column     Non-Null Count   Dtype \n",
      "---  ------     --------------   ----- \n",
      " 0   event      244126 non-null  object\n",
      " 1   user_id    244126 non-null  int64 \n",
      " 2   timestamp  244126 non-null  int64 \n",
      " 3   exp_id     244126 non-null  int64 \n",
      "dtypes: int64(3), object(1)\n",
      "memory usage: 7.5+ MB\n"
     ]
    }
   ],
   "source": [
    "# Change column names\n",
    "df = df.rename(columns={\n",
    "    'EventName': 'event',\n",
    "    'DeviceIDHash': 'user_id',\n",
    "    'EventTimestamp': 'timestamp',\n",
    "    'ExpId': 'exp_id'\n",
    "})\n",
    "df.info()"
   ]
  },
  {
   "cell_type": "code",
   "execution_count": 4,
   "metadata": {},
   "outputs": [
    {
     "name": "stdout",
     "output_type": "stream",
     "text": [
      "event        0\n",
      "user_id      0\n",
      "timestamp    0\n",
      "exp_id       0\n",
      "dtype: int64\n",
      "-----------\n",
      "413\n"
     ]
    }
   ],
   "source": [
    "#verify if there are null values or duplicated rows\n",
    "print(df.isnull().sum())\n",
    "print('-----------')\n",
    "print(df.duplicated().sum())\n",
    "#Delete duplicated rows\n",
    "df = df.drop_duplicates()"
   ]
  },
  {
   "cell_type": "code",
   "execution_count": 5,
   "metadata": {},
   "outputs": [
    {
     "data": {
      "text/html": [
       "<div>\n",
       "<style scoped>\n",
       "    .dataframe tbody tr th:only-of-type {\n",
       "        vertical-align: middle;\n",
       "    }\n",
       "\n",
       "    .dataframe tbody tr th {\n",
       "        vertical-align: top;\n",
       "    }\n",
       "\n",
       "    .dataframe thead th {\n",
       "        text-align: right;\n",
       "    }\n",
       "</style>\n",
       "<table border=\"1\" class=\"dataframe\">\n",
       "  <thead>\n",
       "    <tr style=\"text-align: right;\">\n",
       "      <th></th>\n",
       "      <th>event</th>\n",
       "      <th>user_id</th>\n",
       "      <th>timestamp</th>\n",
       "      <th>exp_id</th>\n",
       "      <th>event_dt</th>\n",
       "      <th>event_date</th>\n",
       "    </tr>\n",
       "  </thead>\n",
       "  <tbody>\n",
       "    <tr>\n",
       "      <th>0</th>\n",
       "      <td>MainScreenAppear</td>\n",
       "      <td>4575588528974610257</td>\n",
       "      <td>1564029816</td>\n",
       "      <td>246</td>\n",
       "      <td>2019-07-25 04:43:36</td>\n",
       "      <td>2019-07-25</td>\n",
       "    </tr>\n",
       "    <tr>\n",
       "      <th>1</th>\n",
       "      <td>MainScreenAppear</td>\n",
       "      <td>7416695313311560658</td>\n",
       "      <td>1564053102</td>\n",
       "      <td>246</td>\n",
       "      <td>2019-07-25 11:11:42</td>\n",
       "      <td>2019-07-25</td>\n",
       "    </tr>\n",
       "    <tr>\n",
       "      <th>2</th>\n",
       "      <td>PaymentScreenSuccessful</td>\n",
       "      <td>3518123091307005509</td>\n",
       "      <td>1564054127</td>\n",
       "      <td>248</td>\n",
       "      <td>2019-07-25 11:28:47</td>\n",
       "      <td>2019-07-25</td>\n",
       "    </tr>\n",
       "    <tr>\n",
       "      <th>3</th>\n",
       "      <td>CartScreenAppear</td>\n",
       "      <td>3518123091307005509</td>\n",
       "      <td>1564054127</td>\n",
       "      <td>248</td>\n",
       "      <td>2019-07-25 11:28:47</td>\n",
       "      <td>2019-07-25</td>\n",
       "    </tr>\n",
       "    <tr>\n",
       "      <th>4</th>\n",
       "      <td>PaymentScreenSuccessful</td>\n",
       "      <td>6217807653094995999</td>\n",
       "      <td>1564055322</td>\n",
       "      <td>248</td>\n",
       "      <td>2019-07-25 11:48:42</td>\n",
       "      <td>2019-07-25</td>\n",
       "    </tr>\n",
       "  </tbody>\n",
       "</table>\n",
       "</div>"
      ],
      "text/plain": [
       "                     event              user_id   timestamp  exp_id  \\\n",
       "0         MainScreenAppear  4575588528974610257  1564029816     246   \n",
       "1         MainScreenAppear  7416695313311560658  1564053102     246   \n",
       "2  PaymentScreenSuccessful  3518123091307005509  1564054127     248   \n",
       "3         CartScreenAppear  3518123091307005509  1564054127     248   \n",
       "4  PaymentScreenSuccessful  6217807653094995999  1564055322     248   \n",
       "\n",
       "             event_dt  event_date  \n",
       "0 2019-07-25 04:43:36  2019-07-25  \n",
       "1 2019-07-25 11:11:42  2019-07-25  \n",
       "2 2019-07-25 11:28:47  2019-07-25  \n",
       "3 2019-07-25 11:28:47  2019-07-25  \n",
       "4 2019-07-25 11:48:42  2019-07-25  "
      ]
     },
     "metadata": {},
     "output_type": "display_data"
    },
    {
     "name": "stdout",
     "output_type": "stream",
     "text": [
      "<class 'pandas.core.frame.DataFrame'>\n",
      "Index: 243713 entries, 0 to 244125\n",
      "Data columns (total 6 columns):\n",
      " #   Column      Non-Null Count   Dtype         \n",
      "---  ------      --------------   -----         \n",
      " 0   event       243713 non-null  object        \n",
      " 1   user_id     243713 non-null  int64         \n",
      " 2   timestamp   243713 non-null  int64         \n",
      " 3   exp_id      243713 non-null  int64         \n",
      " 4   event_dt    243713 non-null  datetime64[ns]\n",
      " 5   event_date  243713 non-null  object        \n",
      "dtypes: datetime64[ns](1), int64(3), object(2)\n",
      "memory usage: 13.0+ MB\n",
      "None\n"
     ]
    }
   ],
   "source": [
    "# Convert timestamp to datetime and extract date\n",
    "df['event_dt'] = pd.to_datetime(df['timestamp'], unit='s')\n",
    "df['event_date'] = df['event_dt'].dt.date\n",
    "display(df.head())\n",
    "print(df.info())\n"
   ]
  },
  {
   "cell_type": "markdown",
   "metadata": {},
   "source": [
    "## Study and analyze the data"
   ]
  },
  {
   "cell_type": "markdown",
   "metadata": {},
   "source": [
    "How many events are in the logs?"
   ]
  },
  {
   "cell_type": "code",
   "execution_count": 6,
   "metadata": {},
   "outputs": [
    {
     "data": {
      "text/plain": [
       "'Total events: '"
      ]
     },
     "metadata": {},
     "output_type": "display_data"
    },
    {
     "data": {
      "text/plain": [
       "243713"
      ]
     },
     "metadata": {},
     "output_type": "display_data"
    }
   ],
   "source": [
    "display('Total events: ', len(df))"
   ]
  },
  {
   "cell_type": "markdown",
   "metadata": {},
   "source": [
    "How many users are there in the records?"
   ]
  },
  {
   "cell_type": "code",
   "execution_count": 7,
   "metadata": {},
   "outputs": [
    {
     "name": "stdout",
     "output_type": "stream",
     "text": [
      "Number of users:  7551\n"
     ]
    }
   ],
   "source": [
    "print('Number of users: ', df['user_id'].nunique())"
   ]
  },
  {
   "cell_type": "markdown",
   "metadata": {},
   "source": [
    "What is the average number of events per user?"
   ]
  },
  {
   "cell_type": "code",
   "execution_count": 8,
   "metadata": {},
   "outputs": [
    {
     "name": "stdout",
     "output_type": "stream",
     "text": [
      "Average events per user: 32.28\n"
     ]
    }
   ],
   "source": [
    "events_per_user = len(df) / df['user_id'].nunique()\n",
    "print(f'Average events per user: {events_per_user:.2f}')"
   ]
  },
  {
   "cell_type": "markdown",
   "metadata": {},
   "source": [
    "What time period do the data cover?"
   ]
  },
  {
   "cell_type": "code",
   "execution_count": 9,
   "metadata": {},
   "outputs": [
    {
     "name": "stdout",
     "output_type": "stream",
     "text": [
      "The time range is: 2019-07-25 04:43:36 → 2019-08-07 21:15:17\n"
     ]
    }
   ],
   "source": [
    "min_time = df['event_dt'].min()\n",
    "max_time = df['event_dt'].max()\n",
    "print(f'The time range is: {min_time} → {max_time}')"
   ]
  },
  {
   "cell_type": "code",
   "execution_count": 10,
   "metadata": {},
   "outputs": [
    {
     "data": {
      "image/png": "[encoded data removed]",
      "text/plain": [
       "<Figure size 1200x600 with 1 Axes>"
      ]
     },
     "metadata": {},
     "output_type": "display_data"
    }
   ],
   "source": [
    "#histogram of events by day\n",
    "plt.figure(figsize=(12, 6))\n",
    "event_counts_by_day = df['event_date'].value_counts().sort_index()\n",
    "event_counts_by_day.plot(kind='bar',\n",
    "                        title='Events per Day',\n",
    "                        xlabel='Date',\n",
    "                        ylabel ='Number of Events',\n",
    "                        color='#317af4')\n",
    "plt.xticks(rotation=45)\n",
    "plt.tight_layout()\n",
    "plt.show()"
   ]
  },
  {
   "cell_type": "markdown",
   "metadata": {},
   "source": [
    "The Dataframe could be filtered by data from 2019-07-31"
   ]
  },
  {
   "cell_type": "code",
   "execution_count": 11,
   "metadata": {},
   "outputs": [
    {
     "name": "stdout",
     "output_type": "stream",
     "text": [
      "Start: 2019-07-31 00:00:00\n",
      "End: 2019-08-07 00:00:00\n"
     ]
    }
   ],
   "source": [
    "cut_day= '2019-07-31'\n",
    "df['event_date'] = pd.to_datetime(df['event_date'])\n",
    "df_filtered = df[df['event_date'] >= cut_day]\n",
    "print(\"Start:\", df_filtered['event_date'].min())\n",
    "print(\"End:\", df_filtered['event_date'].max())\n",
    "\n"
   ]
  },
  {
   "cell_type": "markdown",
   "metadata": {},
   "source": [
    "Check if whe lost a lot of data"
   ]
  },
  {
   "cell_type": "code",
   "execution_count": 12,
   "metadata": {},
   "outputs": [
    {
     "name": "stdout",
     "output_type": "stream",
     "text": [
      "Total events:  243713\n",
      "Events after we filtered:  242917\n",
      "Events removed:  796\n",
      "Percentage removed:  0.33 %\n"
     ]
    }
   ],
   "source": [
    "total_eventos = len(df)\n",
    "eventos_filtrados = len(df_filtered)\n",
    "print('Total events: ', total_eventos)\n",
    "print('Events after we filtered: ', eventos_filtrados)\n",
    "print('Events removed: ', total_eventos-eventos_filtrados)\n",
    "print('Percentage removed: ', round(((1 - eventos_filtrados / total_eventos) * 100), 2), \"%\")"
   ]
  },
  {
   "cell_type": "markdown",
   "metadata": {},
   "source": [
    "We remove less than 1% nothing too significant"
   ]
  },
  {
   "cell_type": "code",
   "execution_count": 13,
   "metadata": {},
   "outputs": [
    {
     "data": {
      "text/plain": [
       "exp_id\n",
       "248    85309\n",
       "246    79922\n",
       "247    77686\n",
       "Name: count, dtype: int64"
      ]
     },
     "metadata": {},
     "output_type": "display_data"
    }
   ],
   "source": [
    "#verify we have enough events in each group\n",
    "display(df_filtered['exp_id'].value_counts())"
   ]
  },
  {
   "cell_type": "markdown",
   "metadata": {},
   "source": [
    "## Study the event funnel"
   ]
  },
  {
   "cell_type": "markdown",
   "metadata": {},
   "source": [
    "### What events are in the logs and their frequency of occurrence"
   ]
  },
  {
   "cell_type": "code",
   "execution_count": 14,
   "metadata": {},
   "outputs": [
    {
     "data": {
      "text/html": [
       "<div>\n",
       "<style scoped>\n",
       "    .dataframe tbody tr th:only-of-type {\n",
       "        vertical-align: middle;\n",
       "    }\n",
       "\n",
       "    .dataframe tbody tr th {\n",
       "        vertical-align: top;\n",
       "    }\n",
       "\n",
       "    .dataframe thead th {\n",
       "        text-align: right;\n",
       "    }\n",
       "</style>\n",
       "<table border=\"1\" class=\"dataframe\">\n",
       "  <thead>\n",
       "    <tr style=\"text-align: right;\">\n",
       "      <th></th>\n",
       "      <th>event</th>\n",
       "      <th>user_id</th>\n",
       "      <th>timestamp</th>\n",
       "      <th>exp_id</th>\n",
       "      <th>event_dt</th>\n",
       "      <th>event_date</th>\n",
       "    </tr>\n",
       "  </thead>\n",
       "  <tbody>\n",
       "    <tr>\n",
       "      <th>797</th>\n",
       "      <td>MainScreenAppear</td>\n",
       "      <td>3670880358399219515</td>\n",
       "      <td>1564535506</td>\n",
       "      <td>247</td>\n",
       "      <td>2019-07-31 01:11:46</td>\n",
       "      <td>2019-07-31</td>\n",
       "    </tr>\n",
       "    <tr>\n",
       "      <th>798</th>\n",
       "      <td>OffersScreenAppear</td>\n",
       "      <td>3799109751993694887</td>\n",
       "      <td>1564536064</td>\n",
       "      <td>248</td>\n",
       "      <td>2019-07-31 01:21:04</td>\n",
       "      <td>2019-07-31</td>\n",
       "    </tr>\n",
       "    <tr>\n",
       "      <th>799</th>\n",
       "      <td>Tutorial</td>\n",
       "      <td>1126021718529336913</td>\n",
       "      <td>1564536731</td>\n",
       "      <td>247</td>\n",
       "      <td>2019-07-31 01:32:11</td>\n",
       "      <td>2019-07-31</td>\n",
       "    </tr>\n",
       "    <tr>\n",
       "      <th>800</th>\n",
       "      <td>MainScreenAppear</td>\n",
       "      <td>4293428370257583636</td>\n",
       "      <td>1564539558</td>\n",
       "      <td>248</td>\n",
       "      <td>2019-07-31 02:19:18</td>\n",
       "      <td>2019-07-31</td>\n",
       "    </tr>\n",
       "    <tr>\n",
       "      <th>801</th>\n",
       "      <td>MainScreenAppear</td>\n",
       "      <td>4567464647598975872</td>\n",
       "      <td>1564540410</td>\n",
       "      <td>247</td>\n",
       "      <td>2019-07-31 02:33:30</td>\n",
       "      <td>2019-07-31</td>\n",
       "    </tr>\n",
       "  </tbody>\n",
       "</table>\n",
       "</div>"
      ],
      "text/plain": [
       "                  event              user_id   timestamp  exp_id  \\\n",
       "797    MainScreenAppear  3670880358399219515  1564535506     247   \n",
       "798  OffersScreenAppear  3799109751993694887  1564536064     248   \n",
       "799            Tutorial  1126021718529336913  1564536731     247   \n",
       "800    MainScreenAppear  4293428370257583636  1564539558     248   \n",
       "801    MainScreenAppear  4567464647598975872  1564540410     247   \n",
       "\n",
       "               event_dt event_date  \n",
       "797 2019-07-31 01:11:46 2019-07-31  \n",
       "798 2019-07-31 01:21:04 2019-07-31  \n",
       "799 2019-07-31 01:32:11 2019-07-31  \n",
       "800 2019-07-31 02:19:18 2019-07-31  \n",
       "801 2019-07-31 02:33:30 2019-07-31  "
      ]
     },
     "execution_count": 14,
     "metadata": {},
     "output_type": "execute_result"
    }
   ],
   "source": [
    "#star usinnf th filtered dataframe\n",
    "df_filtered.head()"
   ]
  },
  {
   "cell_type": "code",
   "execution_count": 15,
   "metadata": {},
   "outputs": [
    {
     "data": {
      "text/plain": [
       "event\n",
       "MainScreenAppear           118578\n",
       "OffersScreenAppear          46707\n",
       "CartScreenAppear            42560\n",
       "PaymentScreenSuccessful     34058\n",
       "Tutorial                     1014\n",
       "Name: count, dtype: int64"
      ]
     },
     "metadata": {},
     "output_type": "display_data"
    }
   ],
   "source": [
    "# Study the event funnel\n",
    "top_events = df_filtered['event'].value_counts()\n",
    "display(top_events)"
   ]
  },
  {
   "cell_type": "code",
   "execution_count": 16,
   "metadata": {},
   "outputs": [
    {
     "data": {
      "text/plain": [
       "event\n",
       "MainScreenAppear           7439\n",
       "OffersScreenAppear         4613\n",
       "CartScreenAppear           3749\n",
       "PaymentScreenSuccessful    3547\n",
       "Name: user_id, dtype: int64"
      ]
     },
     "metadata": {},
     "output_type": "display_data"
    }
   ],
   "source": [
    "#users per event\n",
    "total_users = df['user_id'].nunique()\n",
    "funnel = ['MainScreenAppear','OffersScreenAppear','CartScreenAppear','PaymentScreenSuccessful']\n",
    "users_per_event = df.groupby('event')['user_id'].nunique().sort_values(ascending=False).loc[funnel]\n",
    "display(users_per_event)"
   ]
  },
  {
   "cell_type": "markdown",
   "metadata": {},
   "source": [
    "We remove tutorial step as it is not important"
   ]
  },
  {
   "cell_type": "markdown",
   "metadata": {},
   "source": [
    "### Retention by stage"
   ]
  },
  {
   "cell_type": "code",
   "execution_count": 17,
   "metadata": {},
   "outputs": [
    {
     "data": {
      "text/html": [
       "<div>\n",
       "<style scoped>\n",
       "    .dataframe tbody tr th:only-of-type {\n",
       "        vertical-align: middle;\n",
       "    }\n",
       "\n",
       "    .dataframe tbody tr th {\n",
       "        vertical-align: top;\n",
       "    }\n",
       "\n",
       "    .dataframe thead th {\n",
       "        text-align: right;\n",
       "    }\n",
       "</style>\n",
       "<table border=\"1\" class=\"dataframe\">\n",
       "  <thead>\n",
       "    <tr style=\"text-align: right;\">\n",
       "      <th></th>\n",
       "      <th>users</th>\n",
       "      <th>retention</th>\n",
       "      <th>conv_acum</th>\n",
       "    </tr>\n",
       "    <tr>\n",
       "      <th>event</th>\n",
       "      <th></th>\n",
       "      <th></th>\n",
       "      <th></th>\n",
       "    </tr>\n",
       "  </thead>\n",
       "  <tbody>\n",
       "    <tr>\n",
       "      <th>MainScreenAppear</th>\n",
       "      <td>7439</td>\n",
       "      <td>1.000000</td>\n",
       "      <td>1.000000</td>\n",
       "    </tr>\n",
       "    <tr>\n",
       "      <th>OffersScreenAppear</th>\n",
       "      <td>4613</td>\n",
       "      <td>0.620110</td>\n",
       "      <td>0.620110</td>\n",
       "    </tr>\n",
       "    <tr>\n",
       "      <th>CartScreenAppear</th>\n",
       "      <td>3749</td>\n",
       "      <td>0.812703</td>\n",
       "      <td>0.503966</td>\n",
       "    </tr>\n",
       "    <tr>\n",
       "      <th>PaymentScreenSuccessful</th>\n",
       "      <td>3547</td>\n",
       "      <td>0.946119</td>\n",
       "      <td>0.476811</td>\n",
       "    </tr>\n",
       "  </tbody>\n",
       "</table>\n",
       "</div>"
      ],
      "text/plain": [
       "                         users  retention  conv_acum\n",
       "event                                               \n",
       "MainScreenAppear          7439   1.000000   1.000000\n",
       "OffersScreenAppear        4613   0.620110   0.620110\n",
       "CartScreenAppear          3749   0.812703   0.503966\n",
       "PaymentScreenSuccessful   3547   0.946119   0.476811"
      ]
     },
     "execution_count": 17,
     "metadata": {},
     "output_type": "execute_result"
    }
   ],
   "source": [
    "retention = users_per_event / users_per_event.shift(1)\n",
    "retention.iloc[0] = 1.0\n",
    "cum_conv = users_per_event / users_per_event.iloc[0]\n",
    "funnel = pd.DataFrame({\n",
    "    'users': users_per_event,\n",
    "    'retention': retention,\n",
    "    'conv_acum': cum_conv\n",
    "})\n",
    "funnel"
   ]
  },
  {
   "cell_type": "code",
   "execution_count": 18,
   "metadata": {},
   "outputs": [
    {
     "data": {
      "text/plain": [
       "(array([0, 1, 2, 3]),\n",
       " [Text(0, 0, 'MainScreenAppear'),\n",
       "  Text(1, 0, 'OffersScreenAppear'),\n",
       "  Text(2, 0, 'CartScreenAppear'),\n",
       "  Text(3, 0, 'PaymentScreenSuccessful')])"
      ]
     },
     "execution_count": 18,
     "metadata": {},
     "output_type": "execute_result"
    },
    {
     "data": {
      "image/png": "[encoded data removed]",
      "text/plain": [
       "<Figure size 640x480 with 1 Axes>"
      ]
     },
     "metadata": {},
     "output_type": "display_data"
    }
   ],
   "source": [
    "funnel.plot(kind='bar',\n",
    "           y='users',\n",
    "           xlabel='Event',\n",
    "           ylabel='Number of Users',\n",
    "           legend=False,\n",
    "           title='User Retention by Stage',\n",
    "           color='#0a63f0')\n",
    "plt.xticks(rotation=45)\n"
   ]
  },
  {
   "cell_type": "code",
   "execution_count": 19,
   "metadata": {},
   "outputs": [
    {
     "name": "stdout",
     "output_type": "stream",
     "text": [
      "The stage with the highest drop is: 'OffersScreenAppear'\n",
      "Retention at this stage: 62.01%\n"
     ]
    }
   ],
   "source": [
    "stage_with_highest_drop = funnel['retention'].idxmin()\n",
    "drop_value = funnel['retention'].min()\n",
    "\n",
    "print(f\"The stage with the highest drop is: '{stage_with_highest_drop}'\")\n",
    "print(f\"Retention at this stage: {drop_value:.2%}\")"
   ]
  },
  {
   "cell_type": "code",
   "execution_count": 20,
   "metadata": {},
   "outputs": [
    {
     "name": "stdout",
     "output_type": "stream",
     "text": [
      "The 47.68% of users complete the journey to 'PaymentScreenSuccessful'\n"
     ]
    }
   ],
   "source": [
    "final_step = funnel.index[-1]\n",
    "final_conversion = funnel.loc[final_step, 'conv_acum']\n",
    "print(f\"The {final_conversion:.2%} of users complete the journey to '{final_step}'\")\n"
   ]
  },
  {
   "cell_type": "markdown",
   "metadata": {},
   "source": [
    "## Study A/A/B test results"
   ]
  },
  {
   "cell_type": "markdown",
   "metadata": {},
   "source": [
    "How many users do we have en each group?"
   ]
  },
  {
   "cell_type": "code",
   "execution_count": 21,
   "metadata": {},
   "outputs": [
    {
     "data": {
      "text/plain": [
       "exp_id\n",
       "246    2485\n",
       "247    2517\n",
       "248    2540\n",
       "Name: user_id, dtype: int64"
      ]
     },
     "metadata": {},
     "output_type": "display_data"
    }
   ],
   "source": [
    "df_filtered\n",
    "user_group = df_filtered.groupby('exp_id')['user_id'].nunique()\n",
    "display(user_group)"
   ]
  },
  {
   "cell_type": "markdown",
   "metadata": {},
   "source": [
    "**Note: Experiment number 246 and 247 are the control groups (A/A), and 248 is the test group(B).** \n"
   ]
  },
  {
   "cell_type": "markdown",
   "metadata": {},
   "source": [
    "Observe whether there is a statistically significant difference between samples 246 and 247."
   ]
  },
  {
   "cell_type": "code",
   "execution_count": 22,
   "metadata": {},
   "outputs": [
    {
     "data": {
      "text/html": [
       "<div>\n",
       "<style scoped>\n",
       "    .dataframe tbody tr th:only-of-type {\n",
       "        vertical-align: middle;\n",
       "    }\n",
       "\n",
       "    .dataframe tbody tr th {\n",
       "        vertical-align: top;\n",
       "    }\n",
       "\n",
       "    .dataframe thead th {\n",
       "        text-align: right;\n",
       "    }\n",
       "</style>\n",
       "<table border=\"1\" class=\"dataframe\">\n",
       "  <thead>\n",
       "    <tr style=\"text-align: right;\">\n",
       "      <th></th>\n",
       "      <th>event</th>\n",
       "      <th>p_value</th>\n",
       "      <th>significant</th>\n",
       "    </tr>\n",
       "  </thead>\n",
       "  <tbody>\n",
       "    <tr>\n",
       "      <th>0</th>\n",
       "      <td>MainScreenAppear</td>\n",
       "      <td>0.586878</td>\n",
       "      <td>False</td>\n",
       "    </tr>\n",
       "    <tr>\n",
       "      <th>1</th>\n",
       "      <td>OffersScreenAppear</td>\n",
       "      <td>0.274351</td>\n",
       "      <td>False</td>\n",
       "    </tr>\n",
       "    <tr>\n",
       "      <th>2</th>\n",
       "      <td>Tutorial</td>\n",
       "      <td>0.879161</td>\n",
       "      <td>False</td>\n",
       "    </tr>\n",
       "    <tr>\n",
       "      <th>3</th>\n",
       "      <td>PaymentScreenSuccessful</td>\n",
       "      <td>0.112108</td>\n",
       "      <td>False</td>\n",
       "    </tr>\n",
       "    <tr>\n",
       "      <th>4</th>\n",
       "      <td>CartScreenAppear</td>\n",
       "      <td>0.213061</td>\n",
       "      <td>False</td>\n",
       "    </tr>\n",
       "  </tbody>\n",
       "</table>\n",
       "</div>"
      ],
      "text/plain": [
       "                     event   p_value  significant\n",
       "0         MainScreenAppear  0.586878        False\n",
       "1       OffersScreenAppear  0.274351        False\n",
       "2                 Tutorial  0.879161        False\n",
       "3  PaymentScreenSuccessful  0.112108        False\n",
       "4         CartScreenAppear  0.213061        False"
      ]
     },
     "metadata": {},
     "output_type": "display_data"
    }
   ],
   "source": [
    "events = df_filtered['event'].unique()\n",
    "results = []\n",
    "\n",
    "for ev in events:\n",
    "    # users who performed the event ev in each group\n",
    "    s1 = df_filtered[(df_filtered['exp_id']==246) & (df_filtered['event']==ev)]['user_id'].nunique()\n",
    "    s2 = df_filtered[(df_filtered['exp_id']==247) & (df_filtered['event']==ev)]['user_id'].nunique()\n",
    "    # total users in each group\n",
    "    t1 = df_filtered[df_filtered['exp_id']==246]['user_id'].nunique()\n",
    "    t2 = df_filtered[df_filtered['exp_id']==247]['user_id'].nunique()\n",
    "\n",
    "    # z-test for proportions\n",
    "    count = np.array([s1, s2])\n",
    "    nobs  = np.array([t1, t2])\n",
    "    stat, p_value = proportions_ztest(count, nobs, alternative='two-sided')\n",
    "    alpha = 0.05\n",
    "    results.append({\n",
    "        'event': ev,\n",
    "        'p_value': p_value,\n",
    "        'significant': p_value < alpha\n",
    "    })\n",
    "\n",
    "stat_df = pd.DataFrame(results)\n",
    "\n",
    "display(stat_df)"
   ]
  },
  {
   "cell_type": "markdown",
   "metadata": {},
   "source": [
    "Find the number of users who performed this action. Find its proportion. Check if the difference between the groups is statistically significant. <br>\n",
    "Repeat the procedure for all other events (create a function)."
   ]
  },
  {
   "cell_type": "code",
   "execution_count": 23,
   "metadata": {},
   "outputs": [
    {
     "name": "stdout",
     "output_type": "stream",
     "text": [
      "Most popular event: MainScreenAppear\n"
     ]
    },
    {
     "data": {
      "text/html": [
       "<div>\n",
       "<style scoped>\n",
       "    .dataframe tbody tr th:only-of-type {\n",
       "        vertical-align: middle;\n",
       "    }\n",
       "\n",
       "    .dataframe tbody tr th {\n",
       "        vertical-align: top;\n",
       "    }\n",
       "\n",
       "    .dataframe thead th {\n",
       "        text-align: right;\n",
       "    }\n",
       "</style>\n",
       "<table border=\"1\" class=\"dataframe\">\n",
       "  <thead>\n",
       "    <tr style=\"text-align: right;\">\n",
       "      <th></th>\n",
       "      <th>event</th>\n",
       "      <th>count_246</th>\n",
       "      <th>count_247</th>\n",
       "      <th>prop_246</th>\n",
       "      <th>prop_247</th>\n",
       "      <th>p_value</th>\n",
       "      <th>significant</th>\n",
       "    </tr>\n",
       "  </thead>\n",
       "  <tbody>\n",
       "    <tr>\n",
       "      <th>3</th>\n",
       "      <td>PaymentScreenSuccessful</td>\n",
       "      <td>1200</td>\n",
       "      <td>1159</td>\n",
       "      <td>0.482897</td>\n",
       "      <td>0.460469</td>\n",
       "      <td>0.112108</td>\n",
       "      <td>False</td>\n",
       "    </tr>\n",
       "    <tr>\n",
       "      <th>4</th>\n",
       "      <td>CartScreenAppear</td>\n",
       "      <td>1267</td>\n",
       "      <td>1239</td>\n",
       "      <td>0.509859</td>\n",
       "      <td>0.492253</td>\n",
       "      <td>0.213061</td>\n",
       "      <td>False</td>\n",
       "    </tr>\n",
       "    <tr>\n",
       "      <th>1</th>\n",
       "      <td>OffersScreenAppear</td>\n",
       "      <td>1544</td>\n",
       "      <td>1526</td>\n",
       "      <td>0.621328</td>\n",
       "      <td>0.606277</td>\n",
       "      <td>0.274351</td>\n",
       "      <td>False</td>\n",
       "    </tr>\n",
       "    <tr>\n",
       "      <th>0</th>\n",
       "      <td>MainScreenAppear</td>\n",
       "      <td>2452</td>\n",
       "      <td>2479</td>\n",
       "      <td>0.986720</td>\n",
       "      <td>0.984903</td>\n",
       "      <td>0.586878</td>\n",
       "      <td>False</td>\n",
       "    </tr>\n",
       "    <tr>\n",
       "      <th>2</th>\n",
       "      <td>Tutorial</td>\n",
       "      <td>278</td>\n",
       "      <td>285</td>\n",
       "      <td>0.111871</td>\n",
       "      <td>0.113230</td>\n",
       "      <td>0.879161</td>\n",
       "      <td>False</td>\n",
       "    </tr>\n",
       "  </tbody>\n",
       "</table>\n",
       "</div>"
      ],
      "text/plain": [
       "                     event  count_246  count_247  prop_246  prop_247  \\\n",
       "3  PaymentScreenSuccessful       1200       1159  0.482897  0.460469   \n",
       "4         CartScreenAppear       1267       1239  0.509859  0.492253   \n",
       "1       OffersScreenAppear       1544       1526  0.621328  0.606277   \n",
       "0         MainScreenAppear       2452       2479  0.986720  0.984903   \n",
       "2                 Tutorial        278        285  0.111871  0.113230   \n",
       "\n",
       "    p_value  significant  \n",
       "3  0.112108        False  \n",
       "4  0.213061        False  \n",
       "1  0.274351        False  \n",
       "0  0.586878        False  \n",
       "2  0.879161        False  "
      ]
     },
     "metadata": {},
     "output_type": "display_data"
    }
   ],
   "source": [
    "#most popular event\n",
    "top_event = df_filtered['event'].value_counts().idxmax()\n",
    "print(f\"Most popular event: {top_event}\")\n",
    "\n",
    "#test function\n",
    "def test_event(df, event, group1=246, group2=247):\n",
    "    # number of unique users who performed the event in each group\n",
    "    s1 = df[(df.exp_id==group1) & (df.event==event)].user_id.nunique()\n",
    "    s2 = df[(df.exp_id==group2) & (df.event==event)].user_id.nunique()\n",
    "    # total unique users in each group\n",
    "    t1 = df[df.exp_id==group1].user_id.nunique()\n",
    "    t2 = df[df.exp_id==group2].user_id.nunique()\n",
    "\n",
    "    # proportions\n",
    "    p1, p2 = s1/t1, s2/t2\n",
    "\n",
    "    # z-test for proportions\n",
    "    count = np.array([s1, s2])\n",
    "    nobs  = np.array([t1, t2])\n",
    "    stat, p_value = proportions_ztest(count, nobs, alternative='two-sided')\n",
    "    alpha = 0.05\n",
    "    return {\n",
    "        'event':       event,\n",
    "        'count_246':   s1,\n",
    "        'count_247':   s2,\n",
    "        'prop_246':    p1,\n",
    "        'prop_247':    p2,\n",
    "        'p_value':     p_value,\n",
    "        'significant': p_value < alpha\n",
    "    }\n",
    "\n",
    "\n",
    "#function for all events\n",
    "results = [test_event(df_filtered, ev) for ev in events]\n",
    "stat_df = pd.DataFrame(results)\n",
    "\n",
    "display(stat_df.sort_values('p_value'))"
   ]
  },
  {
   "cell_type": "markdown",
   "metadata": {},
   "source": [
    "Compare the results with each control group for each event individually"
   ]
  },
  {
   "cell_type": "code",
   "execution_count": 24,
   "metadata": {},
   "outputs": [
    {
     "data": {
      "text/html": [
       "<div>\n",
       "<style scoped>\n",
       "    .dataframe tbody tr th:only-of-type {\n",
       "        vertical-align: middle;\n",
       "    }\n",
       "\n",
       "    .dataframe tbody tr th {\n",
       "        vertical-align: top;\n",
       "    }\n",
       "\n",
       "    .dataframe thead th {\n",
       "        text-align: right;\n",
       "    }\n",
       "</style>\n",
       "<table border=\"1\" class=\"dataframe\">\n",
       "  <thead>\n",
       "    <tr style=\"text-align: right;\">\n",
       "      <th></th>\n",
       "      <th>event</th>\n",
       "      <th>prop_248</th>\n",
       "      <th>prop_ctrl</th>\n",
       "      <th>p_value</th>\n",
       "      <th>significant</th>\n",
       "    </tr>\n",
       "  </thead>\n",
       "  <tbody>\n",
       "    <tr>\n",
       "      <th>4</th>\n",
       "      <td>CartScreenAppear</td>\n",
       "      <td>0.486614</td>\n",
       "      <td>0.501000</td>\n",
       "      <td>0.237645</td>\n",
       "      <td>False</td>\n",
       "    </tr>\n",
       "    <tr>\n",
       "      <th>0</th>\n",
       "      <td>MainScreenAppear</td>\n",
       "      <td>0.983465</td>\n",
       "      <td>0.985806</td>\n",
       "      <td>0.428973</td>\n",
       "      <td>False</td>\n",
       "    </tr>\n",
       "    <tr>\n",
       "      <th>1</th>\n",
       "      <td>OffersScreenAppear</td>\n",
       "      <td>0.604724</td>\n",
       "      <td>0.613754</td>\n",
       "      <td>0.447181</td>\n",
       "      <td>False</td>\n",
       "    </tr>\n",
       "    <tr>\n",
       "      <th>3</th>\n",
       "      <td>PaymentScreenSuccessful</td>\n",
       "      <td>0.465748</td>\n",
       "      <td>0.471611</td>\n",
       "      <td>0.629668</td>\n",
       "      <td>False</td>\n",
       "    </tr>\n",
       "    <tr>\n",
       "      <th>2</th>\n",
       "      <td>Tutorial</td>\n",
       "      <td>0.111024</td>\n",
       "      <td>0.112555</td>\n",
       "      <td>0.842052</td>\n",
       "      <td>False</td>\n",
       "    </tr>\n",
       "  </tbody>\n",
       "</table>\n",
       "</div>"
      ],
      "text/plain": [
       "                     event  prop_248  prop_ctrl   p_value  significant\n",
       "4         CartScreenAppear  0.486614   0.501000  0.237645        False\n",
       "0         MainScreenAppear  0.983465   0.985806  0.428973        False\n",
       "1       OffersScreenAppear  0.604724   0.613754  0.447181        False\n",
       "3  PaymentScreenSuccessful  0.465748   0.471611  0.629668        False\n",
       "2                 Tutorial  0.111024   0.112555  0.842052        False"
      ]
     },
     "metadata": {},
     "output_type": "display_data"
    }
   ],
   "source": [
    "ctrl_users = df_filtered[df_filtered['exp_id'].isin([246,247])]['user_id'].nunique()\n",
    "test_results = []\n",
    "\n",
    "for ev in events:\n",
    "    # successes in combined control for event ev\n",
    "    s_ctrl = (\n",
    "        df_filtered\n",
    "        .loc[\n",
    "            df_filtered['exp_id'].isin([246,247]) &\n",
    "            (df_filtered['event'] == ev),\n",
    "            'user_id'\n",
    "        ]\n",
    "        .nunique()\n",
    "    )\n",
    "    # successes and total in test group 248\n",
    "    s_test = (\n",
    "        df_filtered\n",
    "        .loc[\n",
    "            (df_filtered['exp_id'] == 248) &\n",
    "            (df_filtered['event'] == ev),\n",
    "            'user_id'\n",
    "        ]\n",
    "        .nunique()\n",
    "    )\n",
    "    t_test = df_filtered[df_filtered['exp_id'] == 248]['user_id'].nunique()\n",
    "\n",
    "    # z-test de proporciones\n",
    "    stat, p = proportions_ztest(\n",
    "        count=[s_test, s_ctrl],\n",
    "        nobs=[t_test, ctrl_users],\n",
    "        alternative='two-sided'\n",
    "    )\n",
    "    alpha = 0.05\n",
    "\n",
    "    test_results.append({\n",
    "        'event': ev,\n",
    "        'prop_248': s_test / t_test,\n",
    "        'prop_ctrl': s_ctrl / ctrl_users,\n",
    "        'p_value': p,\n",
    "        'significant': p < alpha\n",
    "    })\n",
    "\n",
    "test_df = pd.DataFrame(test_results).sort_values('p_value')\n",
    "display(test_df)"
   ]
  },
  {
   "cell_type": "markdown",
   "metadata": {},
   "source": [
    "The significance level used for the statistical tests was evaluated. Given the number of tests and a 0.1 threshold, the risk of false positives was considered to assess its appropriateness. We re-chech.\n"
   ]
  },
  {
   "cell_type": "code",
   "execution_count": 25,
   "metadata": {},
   "outputs": [
    {
     "name": "stdout",
     "output_type": "stream",
     "text": [
      "Nivel Bonferroni: 0.01\n",
      "Eventos con diferencia significativa (post‑Bonferroni):\n"
     ]
    },
    {
     "data": {
      "text/html": [
       "<div>\n",
       "<style scoped>\n",
       "    .dataframe tbody tr th:only-of-type {\n",
       "        vertical-align: middle;\n",
       "    }\n",
       "\n",
       "    .dataframe tbody tr th {\n",
       "        vertical-align: top;\n",
       "    }\n",
       "\n",
       "    .dataframe thead th {\n",
       "        text-align: right;\n",
       "    }\n",
       "</style>\n",
       "<table border=\"1\" class=\"dataframe\">\n",
       "  <thead>\n",
       "    <tr style=\"text-align: right;\">\n",
       "      <th></th>\n",
       "      <th>event</th>\n",
       "      <th>prop_248</th>\n",
       "      <th>prop_ctrl</th>\n",
       "      <th>p_value</th>\n",
       "      <th>significant</th>\n",
       "    </tr>\n",
       "  </thead>\n",
       "  <tbody>\n",
       "  </tbody>\n",
       "</table>\n",
       "</div>"
      ],
      "text/plain": [
       "Empty DataFrame\n",
       "Columns: [event, prop_248, prop_ctrl, p_value, significant]\n",
       "Index: []"
      ]
     },
     "metadata": {},
     "output_type": "display_data"
    }
   ],
   "source": [
    "alpha=0.05\n",
    "alpha_bonf = alpha/len(events)\n",
    "sig_events = test_df[test_df['p_value']<alpha_bonf]\n",
    "print(\"Nivel Bonferroni:\", alpha_bonf)\n",
    "print(\"Eventos con diferencia significativa (post‑Bonferroni):\")\n",
    "display(sig_events)"
   ]
  },
  {
   "cell_type": "markdown",
   "metadata": {},
   "source": [
    "## Conclusions \n",
    "Since no real difference was found — that is, Groups A/A and B behaved in an indistinguishable manner and no statistically significant changes were detected — it is recommended to end the test and retain the current configuration used in Group A."
   ]
  }
 ],
 "metadata": {
  "ExecuteTimeLog": [
   {
    "duration": 2505,
    "start_time": "2025-05-11T17:52:44.929Z"
   },
   {
    "duration": 3,
    "start_time": "2025-05-11T17:53:34.623Z"
   },
   {
    "duration": 564,
    "start_time": "2025-05-11T17:54:25.746Z"
   },
   {
    "duration": 198,
    "start_time": "2025-05-11T17:54:33.542Z"
   },
   {
    "duration": 191,
    "start_time": "2025-05-11T17:54:42.542Z"
   },
   {
    "duration": 230,
    "start_time": "2025-05-11T17:54:57.741Z"
   },
   {
    "duration": 8,
    "start_time": "2025-05-11T17:55:18.202Z"
   },
   {
    "duration": 3,
    "start_time": "2025-05-11T17:55:50.646Z"
   },
   {
    "duration": 185,
    "start_time": "2025-05-11T17:56:03.244Z"
   },
   {
    "duration": 106,
    "start_time": "2025-05-11T17:56:18.113Z"
   },
   {
    "duration": 114,
    "start_time": "2025-05-11T17:56:45.997Z"
   },
   {
    "duration": 17,
    "start_time": "2025-05-11T17:59:22.601Z"
   },
   {
    "duration": 6,
    "start_time": "2025-05-11T17:59:29.486Z"
   },
   {
    "duration": 9,
    "start_time": "2025-05-11T17:59:49.754Z"
   },
   {
    "duration": 17,
    "start_time": "2025-05-11T18:00:16.036Z"
   },
   {
    "duration": 49,
    "start_time": "2025-05-11T18:01:11.896Z"
   },
   {
    "duration": 46,
    "start_time": "2025-05-11T18:01:26.627Z"
   },
   {
    "duration": 57,
    "start_time": "2025-05-11T18:02:18.331Z"
   },
   {
    "duration": 86,
    "start_time": "2025-05-11T18:02:25.596Z"
   },
   {
    "duration": 131,
    "start_time": "2025-05-11T18:02:30.003Z"
   },
   {
    "duration": 87,
    "start_time": "2025-05-11T18:02:37.610Z"
   },
   {
    "duration": 815,
    "start_time": "2025-05-11T18:02:45.558Z"
   },
   {
    "duration": 121,
    "start_time": "2025-05-11T18:02:46.375Z"
   },
   {
    "duration": 26,
    "start_time": "2025-05-11T18:02:46.498Z"
   },
   {
    "duration": 85,
    "start_time": "2025-05-11T18:02:46.527Z"
   },
   {
    "duration": 90,
    "start_time": "2025-05-11T18:02:52.268Z"
   },
   {
    "duration": 95,
    "start_time": "2025-05-11T18:03:07.115Z"
   },
   {
    "duration": 6,
    "start_time": "2025-05-11T18:04:14.742Z"
   },
   {
    "duration": 17,
    "start_time": "2025-05-11T18:04:20.276Z"
   },
   {
    "duration": 10,
    "start_time": "2025-05-11T18:04:25.354Z"
   },
   {
    "duration": 45,
    "start_time": "2025-05-11T18:05:12.847Z"
   },
   {
    "duration": 51,
    "start_time": "2025-05-11T18:05:17.322Z"
   },
   {
    "duration": 68,
    "start_time": "2025-05-11T18:05:50.986Z"
   },
   {
    "duration": 88,
    "start_time": "2025-05-11T18:06:33.294Z"
   },
   {
    "duration": 23,
    "start_time": "2025-05-11T18:07:31.063Z"
   },
   {
    "duration": 823,
    "start_time": "2025-05-11T18:10:21.844Z"
   },
   {
    "duration": 121,
    "start_time": "2025-05-11T18:10:22.670Z"
   },
   {
    "duration": 31,
    "start_time": "2025-05-11T18:10:22.793Z"
   },
   {
    "duration": 88,
    "start_time": "2025-05-11T18:10:22.826Z"
   },
   {
    "duration": 91,
    "start_time": "2025-05-11T18:10:22.916Z"
   },
   {
    "duration": 38,
    "start_time": "2025-05-11T18:10:23.008Z"
   },
   {
    "duration": 29,
    "start_time": "2025-05-11T18:10:30.495Z"
   },
   {
    "duration": 21,
    "start_time": "2025-05-11T18:10:34.415Z"
   },
   {
    "duration": 22,
    "start_time": "2025-05-11T18:10:38.132Z"
   },
   {
    "duration": 3,
    "start_time": "2025-05-11T18:12:00.743Z"
   },
   {
    "duration": 4,
    "start_time": "2025-05-11T18:12:08.596Z"
   },
   {
    "duration": 6,
    "start_time": "2025-05-11T18:13:06.068Z"
   },
   {
    "duration": 6,
    "start_time": "2025-05-11T18:13:53.746Z"
   },
   {
    "duration": 6,
    "start_time": "2025-05-11T18:13:57.826Z"
   },
   {
    "duration": 6,
    "start_time": "2025-05-11T18:15:20.266Z"
   },
   {
    "duration": 263,
    "start_time": "2025-05-11T18:15:30.617Z"
   },
   {
    "duration": 16,
    "start_time": "2025-05-11T18:15:33.630Z"
   },
   {
    "duration": 3,
    "start_time": "2025-05-11T18:15:52.164Z"
   },
   {
    "duration": 17,
    "start_time": "2025-05-11T18:15:57.190Z"
   },
   {
    "duration": 7,
    "start_time": "2025-05-11T18:16:32.179Z"
   },
   {
    "duration": 15,
    "start_time": "2025-05-11T18:19:24.842Z"
   },
   {
    "duration": 5,
    "start_time": "2025-05-11T18:19:28.546Z"
   },
   {
    "duration": 5,
    "start_time": "2025-05-11T18:20:18.596Z"
   },
   {
    "duration": 5,
    "start_time": "2025-05-11T18:20:27.040Z"
   },
   {
    "duration": 212,
    "start_time": "2025-05-11T18:22:09.942Z"
   },
   {
    "duration": 68,
    "start_time": "2025-05-11T18:22:37.792Z"
   },
   {
    "duration": 53,
    "start_time": "2025-05-11T18:22:44.464Z"
   },
   {
    "duration": 87,
    "start_time": "2025-05-11T18:23:07.258Z"
   },
   {
    "duration": 64,
    "start_time": "2025-05-11T18:23:15.400Z"
   },
   {
    "duration": 4,
    "start_time": "2025-05-11T18:27:57.352Z"
   },
   {
    "duration": 157,
    "start_time": "2025-05-11T18:29:05.663Z"
   },
   {
    "duration": 267,
    "start_time": "2025-05-11T18:29:41.184Z"
   },
   {
    "duration": 145,
    "start_time": "2025-05-11T18:29:48.264Z"
   },
   {
    "duration": 844,
    "start_time": "2025-05-11T18:30:05.933Z"
   },
   {
    "duration": 123,
    "start_time": "2025-05-11T18:30:06.780Z"
   },
   {
    "duration": 26,
    "start_time": "2025-05-11T18:30:06.905Z"
   },
   {
    "duration": 93,
    "start_time": "2025-05-11T18:30:06.933Z"
   },
   {
    "duration": 83,
    "start_time": "2025-05-11T18:30:07.029Z"
   },
   {
    "duration": 12,
    "start_time": "2025-05-11T18:30:07.114Z"
   },
   {
    "duration": 7,
    "start_time": "2025-05-11T18:30:07.127Z"
   },
   {
    "duration": 6,
    "start_time": "2025-05-11T18:30:07.135Z"
   },
   {
    "duration": 4,
    "start_time": "2025-05-11T18:30:07.143Z"
   },
   {
    "duration": 187,
    "start_time": "2025-05-11T18:30:07.149Z"
   },
   {
    "duration": 163,
    "start_time": "2025-05-11T18:30:39.491Z"
   },
   {
    "duration": 865,
    "start_time": "2025-05-11T18:31:42.935Z"
   },
   {
    "duration": 275,
    "start_time": "2025-05-11T18:31:55.682Z"
   },
   {
    "duration": 836,
    "start_time": "2025-05-11T18:34:00.288Z"
   },
   {
    "duration": 134,
    "start_time": "2025-05-11T18:34:01.127Z"
   },
   {
    "duration": 19,
    "start_time": "2025-05-11T18:34:01.263Z"
   },
   {
    "duration": 109,
    "start_time": "2025-05-11T18:34:01.284Z"
   },
   {
    "duration": 77,
    "start_time": "2025-05-11T18:34:01.396Z"
   },
   {
    "duration": 3,
    "start_time": "2025-05-11T18:34:01.475Z"
   },
   {
    "duration": 6,
    "start_time": "2025-05-11T18:34:01.480Z"
   },
   {
    "duration": 5,
    "start_time": "2025-05-11T18:34:01.489Z"
   },
   {
    "duration": 31,
    "start_time": "2025-05-11T18:34:01.496Z"
   },
   {
    "duration": 268,
    "start_time": "2025-05-11T18:34:01.528Z"
   },
   {
    "duration": 242,
    "start_time": "2025-05-11T18:34:16.841Z"
   },
   {
    "duration": 43,
    "start_time": "2025-05-11T19:34:57.674Z"
   },
   {
    "duration": 4,
    "start_time": "2025-05-11T19:35:34.495Z"
   },
   {
    "duration": 404,
    "start_time": "2025-05-11T19:36:59.017Z"
   },
   {
    "duration": 49,
    "start_time": "2025-05-11T19:38:10.991Z"
   },
   {
    "duration": 21,
    "start_time": "2025-05-11T19:38:15.885Z"
   },
   {
    "duration": 20,
    "start_time": "2025-05-11T19:38:23.868Z"
   },
   {
    "duration": 34,
    "start_time": "2025-05-11T19:38:54.657Z"
   },
   {
    "duration": 75,
    "start_time": "2025-05-11T19:39:09.014Z"
   },
   {
    "duration": 19,
    "start_time": "2025-05-11T19:39:15.315Z"
   },
   {
    "duration": 19,
    "start_time": "2025-05-11T19:39:17.231Z"
   },
   {
    "duration": 32,
    "start_time": "2025-05-11T19:39:24.698Z"
   },
   {
    "duration": 19,
    "start_time": "2025-05-11T19:39:27.014Z"
   },
   {
    "duration": 21,
    "start_time": "2025-05-11T19:39:31.168Z"
   },
   {
    "duration": 3,
    "start_time": "2025-05-11T19:41:07.707Z"
   },
   {
    "duration": 2,
    "start_time": "2025-05-11T19:42:23.791Z"
   },
   {
    "duration": 18,
    "start_time": "2025-05-11T19:42:32.954Z"
   },
   {
    "duration": 3,
    "start_time": "2025-05-11T19:42:34.961Z"
   },
   {
    "duration": 3,
    "start_time": "2025-05-11T19:43:24.322Z"
   },
   {
    "duration": 16,
    "start_time": "2025-05-11T19:43:40.671Z"
   },
   {
    "duration": 3,
    "start_time": "2025-05-11T19:44:42.170Z"
   },
   {
    "duration": 13,
    "start_time": "2025-05-11T19:46:24.964Z"
   },
   {
    "duration": 7,
    "start_time": "2025-05-11T19:46:31.312Z"
   },
   {
    "duration": 10,
    "start_time": "2025-05-11T19:48:06.397Z"
   },
   {
    "duration": 8,
    "start_time": "2025-05-11T19:48:13.354Z"
   },
   {
    "duration": 5,
    "start_time": "2025-05-11T19:48:45.451Z"
   },
   {
    "duration": 18,
    "start_time": "2025-05-11T19:48:53.146Z"
   },
   {
    "duration": 2,
    "start_time": "2025-05-11T20:24:58.403Z"
   },
   {
    "duration": 3,
    "start_time": "2025-05-11T20:25:06.640Z"
   },
   {
    "duration": 6,
    "start_time": "2025-05-11T20:35:01.762Z"
   },
   {
    "duration": 8,
    "start_time": "2025-05-11T20:35:07.394Z"
   },
   {
    "duration": 38,
    "start_time": "2025-05-11T20:36:24.562Z"
   },
   {
    "duration": 56,
    "start_time": "2025-05-11T20:36:30.817Z"
   },
   {
    "duration": 6,
    "start_time": "2025-05-11T20:38:51.522Z"
   },
   {
    "duration": 4,
    "start_time": "2025-05-11T20:39:46.000Z"
   },
   {
    "duration": 42,
    "start_time": "2025-05-11T20:39:55.453Z"
   },
   {
    "duration": 5,
    "start_time": "2025-05-11T20:46:56.873Z"
   },
   {
    "duration": 3,
    "start_time": "2025-05-11T20:51:29.493Z"
   },
   {
    "duration": 6,
    "start_time": "2025-05-11T20:51:34.214Z"
   },
   {
    "duration": 15,
    "start_time": "2025-05-11T20:56:26.053Z"
   },
   {
    "duration": 16,
    "start_time": "2025-05-11T20:56:32.321Z"
   },
   {
    "duration": 4,
    "start_time": "2025-05-11T20:56:36.487Z"
   },
   {
    "duration": 8,
    "start_time": "2025-05-11T20:56:43.386Z"
   },
   {
    "duration": 15,
    "start_time": "2025-05-11T21:01:47.660Z"
   },
   {
    "duration": 4,
    "start_time": "2025-05-11T21:01:55.833Z"
   },
   {
    "duration": 3,
    "start_time": "2025-05-11T21:02:10.219Z"
   },
   {
    "duration": 15,
    "start_time": "2025-05-11T21:02:48.268Z"
   },
   {
    "duration": 21,
    "start_time": "2025-05-11T21:02:59.569Z"
   },
   {
    "duration": 3,
    "start_time": "2025-05-11T21:03:03.598Z"
   },
   {
    "duration": 396,
    "start_time": "2025-05-11T21:04:05.392Z"
   },
   {
    "duration": 136,
    "start_time": "2025-05-11T21:04:15.269Z"
   },
   {
    "duration": 116,
    "start_time": "2025-05-11T21:04:33.695Z"
   },
   {
    "duration": 227,
    "start_time": "2025-05-11T21:05:00.836Z"
   },
   {
    "duration": 114,
    "start_time": "2025-05-11T21:05:14.133Z"
   },
   {
    "duration": 538,
    "start_time": "2025-05-11T21:05:27.794Z"
   },
   {
    "duration": 116,
    "start_time": "2025-05-11T21:05:34.256Z"
   },
   {
    "duration": 144,
    "start_time": "2025-05-11T21:05:38.073Z"
   },
   {
    "duration": 115,
    "start_time": "2025-05-11T21:05:43.534Z"
   },
   {
    "duration": 119,
    "start_time": "2025-05-11T21:06:23.869Z"
   },
   {
    "duration": 119,
    "start_time": "2025-05-11T21:06:37.105Z"
   },
   {
    "duration": 115,
    "start_time": "2025-05-11T21:06:55.456Z"
   },
   {
    "duration": 371,
    "start_time": "2025-05-11T21:07:17.564Z"
   },
   {
    "duration": 115,
    "start_time": "2025-05-11T21:07:22.567Z"
   },
   {
    "duration": 10,
    "start_time": "2025-05-11T21:18:30.294Z"
   },
   {
    "duration": 23,
    "start_time": "2025-05-11T21:19:44.758Z"
   },
   {
    "duration": 22,
    "start_time": "2025-05-11T21:19:57.869Z"
   }
  ],
  "kernelspec": {
   "display_name": "base",
   "language": "python",
   "name": "python3"
  },
  "language_info": {
   "codemirror_mode": {
    "name": "ipython",
    "version": 3
   },
   "file_extension": ".py",
   "mimetype": "text/x-python",
   "name": "python",
   "nbconvert_exporter": "python",
   "pygments_lexer": "ipython3",
   "version": "3.12.7"
  },
  "toc": {
   "base_numbering": 1,
   "nav_menu": {},
   "number_sections": true,
   "sideBar": true,
   "skip_h1_title": true,
   "title_cell": "Table of Contents",
   "title_sidebar": "Contents",
   "toc_cell": false,
   "toc_position": {},
   "toc_section_display": true,
   "toc_window_display": false
  }
 },
 "nbformat": 4,
 "nbformat_minor": 4
}
